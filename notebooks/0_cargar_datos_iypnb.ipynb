{
  "nbformat": 4,
  "nbformat_minor": 0,
  "metadata": {
    "colab": {
      "name": "0.cargar-datos.iypnb",
      "provenance": [],
      "collapsed_sections": [],
      "authorship_tag": "ABX9TyPa/H659x4reu3qKCzYHNTE",
      "include_colab_link": true
    },
    "kernelspec": {
      "name": "python3",
      "display_name": "Python 3"
    },
    "language_info": {
      "name": "python"
    }
  },
  "cells": [
    {
      "cell_type": "markdown",
      "metadata": {
        "id": "view-in-github",
        "colab_type": "text"
      },
      "source": [
        "<a href=\"https://colab.research.google.com/github/GreatestTrain/tensorflow/blob/main/notebooks/0_cargar_datos_iypnb.ipynb\" target=\"_parent\"><img src=\"https://colab.research.google.com/assets/colab-badge.svg\" alt=\"Open In Colab\"/></a>"
      ]
    },
    {
      "cell_type": "markdown",
      "source": [
        "## Descargando los datos"
      ],
      "metadata": {
        "id": "U96PWuUl-koK"
      }
    },
    {
      "cell_type": "code",
      "execution_count": null,
      "metadata": {
        "colab": {
          "base_uri": "https://localhost:8080/"
        },
        "id": "i9CXwKIC8JxC",
        "outputId": "2862dee0-0e12-464d-dd10-4863ecc596db"
      },
      "outputs": [
        {
          "output_type": "stream",
          "name": "stdout",
          "text": [
            "--2022-08-30 22:58:19--  https://storage.googleapis.com/platzi-tf2/databasesLoadData.zip\n",
            "Resolving storage.googleapis.com (storage.googleapis.com)... 173.194.212.128, 173.194.213.128, 173.194.214.128, ...\n",
            "Connecting to storage.googleapis.com (storage.googleapis.com)|173.194.212.128|:443... connected.\n",
            "HTTP request sent, awaiting response... 200 OK\n",
            "Length: 71662510 (68M) [application/zip]\n",
            "Saving to: ‘/tmp/databasesLoadData.zip’\n",
            "\n",
            "/tmp/databasesLoadD 100%[===================>]  68.34M   164MB/s    in 0.4s    \n",
            "\n",
            "2022-08-30 22:58:19 (164 MB/s) - ‘/tmp/databasesLoadData.zip’ saved [71662510/71662510]\n",
            "\n"
          ]
        }
      ],
      "source": [
        "!wget --no-check-certificate https://storage.googleapis.com/platzi-tf2/databasesLoadData.zip \\\n",
        "    -O /tmp/databasesLoadData.zip\n"
      ]
    },
    {
      "cell_type": "code",
      "source": [
        "import os\n",
        "import zipfile"
      ],
      "metadata": {
        "id": "WV4oVbSE-j-I"
      },
      "execution_count": null,
      "outputs": []
    },
    {
      "cell_type": "code",
      "source": [
        "local_zip = '/tmp/databasesLoadData.zip'\n",
        "zip_ref = zipfile.ZipFile(local_zip, 'r')\n",
        "zip_ref.extractall(\"/tmp/databasesLoadData\")\n",
        "zip_ref.close()"
      ],
      "metadata": {
        "id": "Gl9GdsZ2-5sE"
      },
      "execution_count": null,
      "outputs": []
    },
    {
      "cell_type": "code",
      "source": [
        "import json\n",
        "import codecs\n",
        "import requests\n",
        "import numpy as np\n",
        "from PIL import Image\n",
        "from io import BytesIO\n",
        "%matplotlib inline\n",
        "import matplotlib.pyplot as pltb\n",
        "url = \"/tmp/databasesLoadData/sign_mnist_json/data.json\""
      ],
      "metadata": {
        "id": "ne-UHZeY_-l0"
      },
      "execution_count": null,
      "outputs": []
    },
    {
      "cell_type": "code",
      "source": [
        "data_json = []\n",
        "with codecs.open(url, 'rU', 'utf-8') as js:\n",
        "  for line in js:\n",
        "    data_json.append(json.loads(line))\n",
        "print(\"{} imagenes encontradas\".format(len(data_json))) "
      ],
      "metadata": {
        "colab": {
          "base_uri": "https://localhost:8080/"
        },
        "id": "BnNpIJS3AWBp",
        "outputId": "bb9b22bb-757d-4603-ede2-7857210eafb5"
      },
      "execution_count": null,
      "outputs": [
        {
          "output_type": "stream",
          "name": "stdout",
          "text": [
            "9 imagenes encontradas\n"
          ]
        }
      ]
    },
    {
      "cell_type": "code",
      "source": [
        "images = []\n",
        "for data in data_json:\n",
        "  response = requests.get(data['content'])\n",
        "  img = np.asarray(Image.open(response))"
      ],
      "metadata": {
        "id": "ITYlAl3NAxU2"
      },
      "execution_count": null,
      "outputs": []
    }
  ]
}